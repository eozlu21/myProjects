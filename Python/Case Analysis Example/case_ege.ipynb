{
 "cells": [
  {
   "cell_type": "code",
   "execution_count": 242,
   "metadata": {},
   "outputs": [],
   "source": [
    "import numpy as np\n",
    "import matplotlib.pyplot as plt\n",
    "import pandas as pd\n",
    "import math\n",
    "import stemgraphic\n",
    "\n",
    "from scipy.stats import norm\n",
    "from scipy.stats import lognorm\n",
    "from scipy.stats import chi2\n",
    "from scipy.stats import t\n",
    "from scipy.stats import f\n",
    "\n",
    "import scipy.stats as sc \n",
    "import statsmodels.graphics.gofplots as sm "
   ]
  },
  {
   "cell_type": "code",
   "execution_count": 243,
   "metadata": {},
   "outputs": [],
   "source": [
    "df = pd.read_excel(\"Difference.xlsx\")\n",
    "assault_96 = df[\"Assault96\"]\n",
    "assault_01 = df[\"Assault01\"]"
   ]
  },
  {
   "cell_type": "code",
   "execution_count": null,
   "metadata": {},
   "outputs": [],
   "source": []
  },
  {
   "cell_type": "code",
   "execution_count": 244,
   "metadata": {},
   "outputs": [
    {
     "name": "stdout",
     "output_type": "stream",
     "text": [
      "90% Confidence Interval\n",
      "(-86.56075476767305, 20.20075476767304)\n",
      "95% Confidence Interval\n",
      "(-96.78709250835405, 30.42709250835403)\n",
      "99% Confidence Interval\n",
      "(-116.77388952497142, 50.41388952497141)\n"
     ]
    }
   ],
   "source": [
    "def plot_histo(cstr, column):\n",
    "    plt.hist(column)\n",
    "    plt.title(cstr)\n",
    "    plt.xlabel('Value')\n",
    "    plt.ylabel('Frequency')\n",
    "    plt.show()\n",
    "    \n",
    "\n"
   ]
  },
  {
   "cell_type": "code",
   "execution_count": null,
   "metadata": {},
   "outputs": [],
   "source": [
    "#Finding the CI for the difference between the two population means\n",
    "#Large samples with unknown population standard deviations \n",
    "\n",
    "def diff_ci_mean_large(column1,column2,alpha):\n",
    "    \n",
    "    z_score = norm.ppf(1-alpha/2)\n",
    "    \n",
    "    sample_mean1=np.mean(column1)\n",
    "    sample_mean2=np.mean(column2)\n",
    "    sample_std1=np.std(column1, ddof=1)\n",
    "    sample_std2=np.std(column2, ddof=1)\n",
    "    sample_cnt1=len(column1) \n",
    "    sample_cnt2=len(column2)\n",
    "    \n",
    "    dif_std=(sample_std1**2/sample_cnt1+sample_std2**2/sample_cnt2)**0.5\n",
    "    \n",
    "    lcl = sample_mean1-sample_mean2 - z_score* dif_std\n",
    "    \n",
    "    ucl = sample_mean1-sample_mean2  + z_score* dif_std\n",
    "    \n",
    "    return lcl,ucl\n",
    "\n",
    "\n",
    "print(\"90% Confidence Interval\")\n",
    "print(diff_ci_mean_large(assault_01, assault_96, 0.1))\n",
    "print(\"95% Confidence Interval\")\n",
    "print(diff_ci_mean_large(assault_01, assault_96, 0.05))\n",
    "print(\"99% Confidence Interval\")\n",
    "print(diff_ci_mean_large(assault_01, assault_96, 0.01))"
   ]
  },
  {
   "cell_type": "code",
   "execution_count": 245,
   "metadata": {},
   "outputs": [
    {
     "name": "stdout",
     "output_type": "stream",
     "text": [
      "0.998513145282095\n",
      "0.8389489959355523\n"
     ]
    }
   ],
   "source": [
    "\n",
    "count_96 = 0\n",
    "count_01 = 0\n",
    "for i in assault_96:\n",
    "    if i > 400:\n",
    "        count_96 += 1\n",
    "\n",
    "for i in assault_01:\n",
    "    if i > 400:\n",
    "        count_01 += 1\n",
    "        \n",
    "proportion_96 = count_96 / len(assault_96)\n",
    "proportion_01 = count_01 / len(assault_01)\n",
    "\n",
    "def test_statistic_prop(sample_prop, null_prop,n):\n",
    "    return (sample_prop - null_prop)/np.sqrt(null_prop*(1-null_prop)/n)\n",
    "\n",
    "test_96 = test_statistic_prop(proportion_96, 0.15, 50)\n",
    "test_01 = test_statistic_prop(proportion_01, 0.15, 50)\n",
    "print(norm.cdf(test_96))\n",
    "print(norm.cdf(test_01))\n"
   ]
  },
  {
   "cell_type": "code",
   "execution_count": 246,
   "metadata": {},
   "outputs": [
    {
     "name": "stdout",
     "output_type": "stream",
     "text": [
      "0.19826992014939393\n"
     ]
    }
   ],
   "source": [
    "test_variance1 = (assault_96.std()**2)/(assault_01.std()**2)\n",
    "print(1-f.cdf(test_variance1, len(assault_96) - 1, len(assault_01) -1))"
   ]
  }
 ],
 "metadata": {
  "kernelspec": {
   "display_name": "Python 3",
   "language": "python",
   "name": "python3"
  },
  "language_info": {
   "codemirror_mode": {
    "name": "ipython",
    "version": 3
   },
   "file_extension": ".py",
   "mimetype": "text/x-python",
   "name": "python",
   "nbconvert_exporter": "python",
   "pygments_lexer": "ipython3",
   "version": "3.9.0"
  },
  "orig_nbformat": 4
 },
 "nbformat": 4,
 "nbformat_minor": 2
}
